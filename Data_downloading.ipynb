{
 "cells": [
  {
   "cell_type": "code",
   "execution_count": 6,
   "metadata": {},
   "outputs": [],
   "source": [
    "import glob\n",
    "import json\n",
    "import os\n",
    "\n",
    "\n",
    "import gdown\n",
    "import zipfile"
   ]
  },
  {
   "cell_type": "markdown",
   "metadata": {},
   "source": [
    "# Downloading .zip file"
   ]
  },
  {
   "cell_type": "code",
   "execution_count": null,
   "metadata": {},
   "outputs": [
    {
     "name": "stderr",
     "output_type": "stream",
     "text": [
      "Downloading...\n",
      "From (original): https://drive.google.com/uc?export=download&id=1WBgBC8wsSceg2SMNNlH3oD-FzVRJB3_9\n",
      "From (redirected): https://drive.google.com/uc?export=download&id=1WBgBC8wsSceg2SMNNlH3oD-FzVRJB3_9&confirm=t&uuid=c00f0af3-65e2-4a28-95ba-b968d595269e\n",
      "To: C:\\Users\\Valentino\\Posao\\Projekti\\ediaqi\\Collocation_study_exp_check\\data\\data.zip\n",
      "100%|█████████████████████████████████████████████████████████████████████████████| 56.7M/56.7M [00:01<00:00, 41.5MB/s]\n"
     ]
    },
    {
     "data": {
      "text/plain": [
       "'./data/data.zip'"
      ]
     },
     "execution_count": 33,
     "metadata": {},
     "output_type": "execute_result"
    }
   ],
   "source": [
    "url = 'https://drive.google.com/uc?export=download&id=1WBgBC8wsSceg2SMNNlH3oD-FzVRJB3_9'\n",
    "\n",
    "os.makedirs('data', exist_ok=True)\n",
    "\n",
    "gdown.download(url, './data/data.zip', quiet=False)"
   ]
  },
  {
   "cell_type": "markdown",
   "metadata": {},
   "source": [
    "# Extracting data"
   ]
  },
  {
   "cell_type": "code",
   "execution_count": 35,
   "metadata": {},
   "outputs": [
    {
     "name": "stdout",
     "output_type": "stream",
     "text": [
      "File unzipped to ./data/\n"
     ]
    }
   ],
   "source": [
    "zip_file_path = './data/data.zip'\n",
    "\n",
    "extraction_dir = './data/'\n",
    "\n",
    "os.makedirs(extraction_dir, exist_ok=True)\n",
    "\n",
    "with zipfile.ZipFile(zip_file_path, 'r') as zip_ref:\n",
    "    zip_ref.extractall(extraction_dir)\n",
    "\n",
    "print(f\"File unzipped to {extraction_dir}\")"
   ]
  },
  {
   "cell_type": "markdown",
   "metadata": {},
   "source": [
    "# Loading the data"
   ]
  },
  {
   "cell_type": "code",
   "execution_count": 47,
   "metadata": {},
   "outputs": [],
   "source": [
    "csv_files = glob.glob(os.path.join('./data/data', '*.csv'))\n",
    "\n",
    "data_dict = {}\n",
    "\n",
    "for file in csv_files:\n",
    "    temp_df = pd.read_csv(file, index_col=0)\n",
    "    data_dict[f\"{os.path.basename(file).replace('.csv','')}\"] = temp_df "
   ]
  },
  {
   "cell_type": "markdown",
   "metadata": {},
   "source": [
    "# Download the experiments data JSON file"
   ]
  },
  {
   "cell_type": "code",
   "execution_count": 7,
   "metadata": {},
   "outputs": [
    {
     "name": "stderr",
     "output_type": "stream",
     "text": [
      "Downloading...\n",
      "From: https://drive.google.com/uc?id=1YLzoKvg8GLVW32Ybykw2eBaN2k-lKKoi\n",
      "To: c:\\Users\\Valentino\\Documents\\GitHub\\collocation_study\\data\\experiments.json\n",
      "100%|██████████| 3.60k/3.60k [00:00<00:00, 3.39MB/s]\n"
     ]
    },
    {
     "data": {
      "text/plain": [
       "'./data/experiments.json'"
      ]
     },
     "execution_count": 7,
     "metadata": {},
     "output_type": "execute_result"
    }
   ],
   "source": [
    "url = 'https://drive.google.com/uc?id=1YLzoKvg8GLVW32Ybykw2eBaN2k-lKKoi'\n",
    "\n",
    "os.makedirs('data', exist_ok=True)\n",
    "\n",
    "gdown.download(url, './data/experiments.json', quiet=False)"
   ]
  },
  {
   "cell_type": "markdown",
   "metadata": {},
   "source": [
    "# Load the experiments data"
   ]
  },
  {
   "cell_type": "code",
   "execution_count": 8,
   "metadata": {},
   "outputs": [],
   "source": [
    "with open('./data/experiments.json', 'r') as file:\n",
    "    experiments_data = json.load(file)"
   ]
  },
  {
   "cell_type": "code",
   "execution_count": 9,
   "metadata": {},
   "outputs": [
    {
     "data": {
      "text/plain": [
       "{'experiments': {'Door opened to the Garden': {'start': '2024-10-16 09:15',\n",
       "   'end': '2024-10-16 09:47'},\n",
       "  'Door opened to the Hallway': {'start': '2024-10-16 20:55',\n",
       "   'end': '2024-10-16 21:25'},\n",
       "  'Doors opened to the Garden and the Hallway': {'start': '2024-10-17 18:20',\n",
       "   'end': '2024-10-17 18:50'},\n",
       "  'Exercise Rowing with closed door to the Garden': {'start': '2024-10-19 10:40',\n",
       "   'end': '2024-10-19 10:54'},\n",
       "  'Exercise Rowing with opened door to the Garden': {'start': '2024-10-19 11:24',\n",
       "   'end': '2024-10-19 11:41'},\n",
       "  'Human Presence': [{'start': '2024-10-19 12:02', 'end': '2024-10-19 12:53'},\n",
       "   {'start': '2024-10-19 13:34', 'end': '2024-10-19 14:08'}],\n",
       "  'Diffuser with Water inside': {'start': '2024-10-19 14:33',\n",
       "   'end': '2024-10-19 14:51'},\n",
       "  'Diffuser with Oil inside': {'start': '2024-10-19 15:06',\n",
       "   'end': '2024-10-19 15:20'},\n",
       "  'Car working in Garden, distance 3 m': {'start': '2024-10-19 15:33',\n",
       "   'end': '2024-10-19 15:38'},\n",
       "  'Car working in Garden, distance 5 m': {'start': '2024-10-19 15:53',\n",
       "   'end': '2024-10-19 15:58'},\n",
       "  'Gas Burner working with closed door': {'start': '2024-10-20 13:10',\n",
       "   'end': '2024-10-20 13:40'},\n",
       "  'Gas Burner working with opened door': {'start': '2024-10-20 14:00',\n",
       "   'end': '2024-10-20 14:30'},\n",
       "  'Candle with closed door': [{'start': '2024-10-20 14:51',\n",
       "    'end': '2024-10-20 15:15'},\n",
       "   {'start': '2024-11-01 14:50', 'end': '2024-11-01 15:05'}],\n",
       "  'Scented Candle': {'start': '2024-10-20 19:58', 'end': '2024-10-20 21:30'},\n",
       "  'Candle with opened door': {'start': '2024-10-21 08:50',\n",
       "   'end': '2024-10-21 09:30'},\n",
       "  'Vacuum Cleaning with windows closed': {'start': '2024-10-26 16:26',\n",
       "   'end': '2024-10-26 16:34'},\n",
       "  'Odor from Neighbors': {'start': '2024-10-29 10:20',\n",
       "   'end': '2024-10-29 10:25'},\n",
       "  'Heater': [{'start': '2024-10-29 21:00', 'end': '2024-10-29 21:30'},\n",
       "   {'start': '2024-10-31 14:30', 'end': '2024-10-31 15:00'},\n",
       "   {'start': '2024-11-03 10:40', 'end': '2024-11-03 11:30'}],\n",
       "  'Aquarium Pump': {'start': '2024-10-31 15:20', 'end': '2024-10-31 15:40'},\n",
       "  'Tar (Neighbor Burning)': {'start': '2024-10-31 15:56',\n",
       "   'end': '2024-10-31 16:01'},\n",
       "  'Central Heating': {'start': '2024-10-31 17:45', 'end': '2024-10-31 19:45'},\n",
       "  'VOC Tubes - Car': [{'start': '2024-10-29 11:02', 'end': '2024-10-29 11:22'},\n",
       "   {'start': '2024-10-29 11:46', 'end': '2024-10-29 11:56'}],\n",
       "  'VOC Tubes - Diffuser (Oil)': [{'start': '2024-10-29 12:28',\n",
       "    'end': '2024-10-29 12:52'},\n",
       "   {'start': '2024-10-29 12:52', 'end': '2024-10-29 13:07'}],\n",
       "  'VOC Tubes - Gas Burner': {'start': '2024-10-29 13:24',\n",
       "   'end': '2024-10-29 13:39'},\n",
       "  'VOC Tubes - Candle': [{'start': '2024-10-29 14:20',\n",
       "    'end': '2024-10-29 14:51'},\n",
       "   {'start': '2024-10-29 14:51', 'end': '2024-10-29 15:06'}],\n",
       "  'Diffuser with Oil repeated': {'start': '2024-11-02 16:30',\n",
       "   'end': '2024-11-02 17:05'},\n",
       "  'Boiling Water (Gas) with doors closed': {'start': '2024-11-02 18:15',\n",
       "   'end': '2024-11-02 19:45'}}}"
      ]
     },
     "execution_count": 9,
     "metadata": {},
     "output_type": "execute_result"
    }
   ],
   "source": [
    "experiments_data"
   ]
  },
  {
   "cell_type": "code",
   "execution_count": null,
   "metadata": {},
   "outputs": [],
   "source": []
  }
 ],
 "metadata": {
  "kernelspec": {
   "display_name": "new_pollution",
   "language": "python",
   "name": "python3"
  },
  "language_info": {
   "codemirror_mode": {
    "name": "ipython",
    "version": 3
   },
   "file_extension": ".py",
   "mimetype": "text/x-python",
   "name": "python",
   "nbconvert_exporter": "python",
   "pygments_lexer": "ipython3",
   "version": "3.10.5"
  }
 },
 "nbformat": 4,
 "nbformat_minor": 2
}
