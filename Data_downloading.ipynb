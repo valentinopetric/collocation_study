{
 "cells": [
  {
   "cell_type": "code",
   "execution_count": 43,
   "metadata": {},
   "outputs": [],
   "source": [
    "import os\n",
    "import glob\n",
    "\n",
    "import gdown\n",
    "import zipfile"
   ]
  },
  {
   "cell_type": "markdown",
   "metadata": {},
   "source": [
    "# Downloading .zip file"
   ]
  },
  {
   "cell_type": "code",
   "execution_count": 33,
   "metadata": {},
   "outputs": [
    {
     "name": "stderr",
     "output_type": "stream",
     "text": [
      "Downloading...\n",
      "From (original): https://drive.google.com/uc?export=download&id=1WBgBC8wsSceg2SMNNlH3oD-FzVRJB3_9\n",
      "From (redirected): https://drive.google.com/uc?export=download&id=1WBgBC8wsSceg2SMNNlH3oD-FzVRJB3_9&confirm=t&uuid=c00f0af3-65e2-4a28-95ba-b968d595269e\n",
      "To: C:\\Users\\Valentino\\Posao\\Projekti\\ediaqi\\Collocation_study_exp_check\\data\\data.zip\n",
      "100%|█████████████████████████████████████████████████████████████████████████████| 56.7M/56.7M [00:01<00:00, 41.5MB/s]\n"
     ]
    },
    {
     "data": {
      "text/plain": [
       "'./data/data.zip'"
      ]
     },
     "execution_count": 33,
     "metadata": {},
     "output_type": "execute_result"
    }
   ],
   "source": [
    "url = 'https://drive.google.com/uc?export=download&id=1WBgBC8wsSceg2SMNNlH3oD-FzVRJB3_9'\n",
    "\n",
    "os.makedirs('data', exist_ok=True)\n",
    "\n",
    "gdown.download(url, './data/data.zip', quiet=False)"
   ]
  },
  {
   "cell_type": "markdown",
   "metadata": {},
   "source": [
    "# Extracting data"
   ]
  },
  {
   "cell_type": "code",
   "execution_count": 35,
   "metadata": {},
   "outputs": [
    {
     "name": "stdout",
     "output_type": "stream",
     "text": [
      "File unzipped to ./data/\n"
     ]
    }
   ],
   "source": [
    "zip_file_path = './data/data.zip'\n",
    "\n",
    "extraction_dir = './data/'\n",
    "\n",
    "os.makedirs(extraction_dir, exist_ok=True)\n",
    "\n",
    "with zipfile.ZipFile(zip_file_path, 'r') as zip_ref:\n",
    "    zip_ref.extractall(extraction_dir)\n",
    "\n",
    "print(f\"File unzipped to {extraction_dir}\")"
   ]
  },
  {
   "cell_type": "markdown",
   "metadata": {},
   "source": [
    "# Loading the data"
   ]
  },
  {
   "cell_type": "code",
   "execution_count": 47,
   "metadata": {},
   "outputs": [],
   "source": [
    "csv_files = glob.glob(os.path.join('./data/data', '*.csv'))\n",
    "\n",
    "data_dict = {}\n",
    "\n",
    "for file in csv_files:\n",
    "    temp_df = pd.read_csv(file, index_col=0)\n",
    "    data_dict[f\"{os.path.basename(file).replace('.csv','')}\"] = temp_df "
   ]
  },
  {
   "cell_type": "code",
   "execution_count": null,
   "metadata": {},
   "outputs": [],
   "source": []
  }
 ],
 "metadata": {
  "kernelspec": {
   "display_name": "Python 3 (ipykernel)",
   "language": "python",
   "name": "python3"
  },
  "language_info": {
   "codemirror_mode": {
    "name": "ipython",
    "version": 3
   },
   "file_extension": ".py",
   "mimetype": "text/x-python",
   "name": "python",
   "nbconvert_exporter": "python",
   "pygments_lexer": "ipython3",
   "version": "3.10.5"
  }
 },
 "nbformat": 4,
 "nbformat_minor": 2
}
