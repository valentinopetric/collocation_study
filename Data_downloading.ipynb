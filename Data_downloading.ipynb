{
 "cells": [
  {
   "cell_type": "code",
   "execution_count": 1,
   "metadata": {},
   "outputs": [],
   "source": [
    "import glob\n",
    "import json\n",
    "import os\n",
    "import zipfile\n",
    "\n",
    "import gdown"
   ]
  },
  {
   "cell_type": "markdown",
   "metadata": {},
   "source": [
    "# Downloading .zip file"
   ]
  },
  {
   "cell_type": "code",
   "execution_count": 2,
   "metadata": {},
   "outputs": [
    {
     "name": "stderr",
     "output_type": "stream",
     "text": [
      "Downloading...\n",
      "From (original): https://drive.google.com/uc?export=download&id=1OaBNDfDpL_WYZ8FIgOQJrRerqHIBDK5R\n",
      "From (redirected): https://drive.google.com/uc?export=download&id=1OaBNDfDpL_WYZ8FIgOQJrRerqHIBDK5R&confirm=t&uuid=8aadd4b2-6279-46bb-9c63-ceaccf1325d5\n",
      "To: c:\\Users\\Valentino\\Documents\\GitHub\\collocation_study\\data\\data.zip\n",
      "100%|██████████| 49.6M/49.6M [00:04<00:00, 11.7MB/s]\n"
     ]
    },
    {
     "data": {
      "text/plain": [
       "'./data/data.zip'"
      ]
     },
     "execution_count": 2,
     "metadata": {},
     "output_type": "execute_result"
    }
   ],
   "source": [
    "url = 'https://drive.google.com/uc?export=download&id=1OaBNDfDpL_WYZ8FIgOQJrRerqHIBDK5R'\n",
    "\n",
    "os.makedirs('data', exist_ok=True)\n",
    "\n",
    "gdown.download(url, './data/data.zip', quiet=False)"
   ]
  },
  {
   "cell_type": "markdown",
   "metadata": {},
   "source": [
    "# Extracting data"
   ]
  },
  {
   "cell_type": "code",
   "execution_count": 3,
   "metadata": {},
   "outputs": [
    {
     "name": "stdout",
     "output_type": "stream",
     "text": [
      "File unzipped to .\n"
     ]
    }
   ],
   "source": [
    "zip_file_path = './data/data.zip'\n",
    "\n",
    "extraction_dir = '.'\n",
    "\n",
    "os.makedirs(extraction_dir, exist_ok=True)\n",
    "\n",
    "with zipfile.ZipFile(zip_file_path, 'r') as zip_ref:\n",
    "    zip_ref.extractall(extraction_dir)\n",
    "\n",
    "print(f\"File unzipped to {extraction_dir}\")\n",
    "os.remove(zip_file_path)\n",
    "\n"
   ]
  },
  {
   "cell_type": "markdown",
   "metadata": {},
   "source": [
    "# Loading the data"
   ]
  },
  {
   "cell_type": "code",
   "execution_count": 4,
   "metadata": {},
   "outputs": [],
   "source": [
    "import pandas as pd"
   ]
  },
  {
   "cell_type": "code",
   "execution_count": 5,
   "metadata": {},
   "outputs": [],
   "source": [
    "csv_files = glob.glob(os.path.join('./data/data', '*.csv'))\n",
    "\n",
    "data_dict = {}\n",
    "\n",
    "for file in csv_files:\n",
    "    temp_df = pd.read_csv(file, index_col=0)\n",
    "    data_dict[f\"{os.path.basename(file).replace('.csv','')}\"] = temp_df "
   ]
  },
  {
   "cell_type": "code",
   "execution_count": 6,
   "metadata": {},
   "outputs": [],
   "source": [
    "for data in data_dict:\n",
    "    df = data_dict[data]"
   ]
  },
  {
   "cell_type": "code",
   "execution_count": 7,
   "metadata": {},
   "outputs": [
    {
     "data": {
      "application/vnd.microsoft.datawrangler.viewer.v0+json": {
       "columns": [
        {
         "name": "index",
         "rawType": "int64",
         "type": "integer"
        },
        {
         "name": "timestamp",
         "rawType": "object",
         "type": "string"
        },
        {
         "name": "car",
         "rawType": "int64",
         "type": "integer"
        },
        {
         "name": "truck",
         "rawType": "int64",
         "type": "integer"
        },
        {
         "name": "bus",
         "rawType": "int64",
         "type": "integer"
        },
        {
         "name": "motorcycle",
         "rawType": "int64",
         "type": "integer"
        }
       ],
       "ref": "a73ca560-a4d9-46fd-af26-7e6782250369",
       "rows": [
        [
         "0",
         "2024-10-22 23:21:24",
         "0",
         "0",
         "0",
         "1"
        ],
        [
         "1",
         "2024-10-22 23:21:24",
         "0",
         "0",
         "0",
         "1"
        ],
        [
         "2",
         "2024-10-22 23:22:06",
         "0",
         "1",
         "0",
         "0"
        ],
        [
         "3",
         "2024-10-22 23:24:25",
         "0",
         "1",
         "0",
         "0"
        ],
        [
         "4",
         "2024-10-22 23:43:26",
         "1",
         "0",
         "0",
         "0"
        ],
        [
         "5",
         "2024-10-22 23:43:31",
         "1",
         "0",
         "0",
         "0"
        ],
        [
         "6",
         "2024-10-23 01:25:12",
         "0",
         "1",
         "0",
         "0"
        ],
        [
         "7",
         "2024-10-23 03:30:13",
         "1",
         "0",
         "0",
         "0"
        ],
        [
         "8",
         "2024-10-23 03:30:22",
         "0",
         "1",
         "0",
         "0"
        ],
        [
         "9",
         "2024-10-23 03:30:45",
         "0",
         "1",
         "0",
         "0"
        ],
        [
         "10",
         "2024-10-23 03:31:02",
         "0",
         "1",
         "0",
         "0"
        ],
        [
         "11",
         "2024-10-23 04:22:05",
         "0",
         "1",
         "0",
         "0"
        ],
        [
         "12",
         "2024-10-23 05:38:30",
         "0",
         "1",
         "0",
         "0"
        ],
        [
         "13",
         "2024-10-23 05:39:15",
         "0",
         "1",
         "0",
         "0"
        ],
        [
         "14",
         "2024-10-23 06:05:49",
         "0",
         "1",
         "0",
         "0"
        ],
        [
         "15",
         "2024-10-23 06:15:55",
         "1",
         "0",
         "0",
         "0"
        ],
        [
         "16",
         "2024-10-23 06:16:55",
         "0",
         "1",
         "0",
         "0"
        ],
        [
         "17",
         "2024-10-23 06:20:27",
         "1",
         "0",
         "0",
         "0"
        ],
        [
         "18",
         "2024-10-23 06:24:20",
         "0",
         "1",
         "0",
         "0"
        ],
        [
         "19",
         "2024-10-23 06:24:33",
         "0",
         "0",
         "1",
         "0"
        ],
        [
         "20",
         "2024-10-23 06:24:53",
         "0",
         "1",
         "0",
         "0"
        ],
        [
         "21",
         "2024-10-23 06:25:48",
         "1",
         "0",
         "0",
         "0"
        ],
        [
         "22",
         "2024-10-23 06:27:21",
         "1",
         "0",
         "0",
         "0"
        ],
        [
         "23",
         "2024-10-23 06:27:26",
         "1",
         "0",
         "0",
         "0"
        ],
        [
         "24",
         "2024-10-23 06:35:53",
         "1",
         "0",
         "0",
         "0"
        ],
        [
         "25",
         "2024-10-23 06:41:30",
         "1",
         "0",
         "0",
         "0"
        ],
        [
         "26",
         "2024-10-23 06:44:05",
         "1",
         "0",
         "0",
         "0"
        ],
        [
         "27",
         "2024-10-23 06:44:06",
         "1",
         "0",
         "0",
         "0"
        ],
        [
         "28",
         "2024-10-23 06:44:16",
         "1",
         "0",
         "0",
         "0"
        ],
        [
         "29",
         "2024-10-23 06:48:12",
         "1",
         "0",
         "0",
         "0"
        ],
        [
         "30",
         "2024-10-23 06:49:13",
         "1",
         "0",
         "0",
         "0"
        ],
        [
         "31",
         "2024-10-23 06:49:20",
         "1",
         "0",
         "0",
         "0"
        ],
        [
         "32",
         "2024-10-23 06:55:58",
         "1",
         "0",
         "0",
         "0"
        ],
        [
         "33",
         "2024-10-23 06:56:32",
         "1",
         "0",
         "0",
         "0"
        ],
        [
         "34",
         "2024-10-23 07:15:12",
         "1",
         "0",
         "0",
         "0"
        ],
        [
         "35",
         "2024-10-23 07:23:08",
         "0",
         "1",
         "0",
         "0"
        ],
        [
         "36",
         "2024-10-23 07:41:36",
         "0",
         "1",
         "0",
         "0"
        ],
        [
         "37",
         "2024-10-23 07:42:31",
         "1",
         "0",
         "0",
         "0"
        ],
        [
         "38",
         "2024-10-23 07:44:29",
         "1",
         "0",
         "0",
         "0"
        ],
        [
         "39",
         "2024-10-23 07:45:08",
         "1",
         "0",
         "0",
         "0"
        ],
        [
         "40",
         "2024-10-23 07:46:15",
         "1",
         "0",
         "0",
         "0"
        ],
        [
         "41",
         "2024-10-23 07:49:06",
         "1",
         "0",
         "0",
         "0"
        ],
        [
         "42",
         "2024-10-23 07:49:36",
         "1",
         "0",
         "0",
         "0"
        ],
        [
         "43",
         "2024-10-23 07:57:46",
         "1",
         "0",
         "0",
         "0"
        ],
        [
         "44",
         "2024-10-23 07:59:20",
         "1",
         "0",
         "0",
         "0"
        ],
        [
         "45",
         "2024-10-23 08:02:12",
         "1",
         "0",
         "0",
         "0"
        ],
        [
         "46",
         "2024-10-23 08:06:00",
         "1",
         "0",
         "0",
         "0"
        ],
        [
         "47",
         "2024-10-23 08:10:32",
         "0",
         "1",
         "0",
         "0"
        ],
        [
         "48",
         "2024-10-23 08:12:46",
         "1",
         "0",
         "0",
         "0"
        ],
        [
         "49",
         "2024-10-23 08:14:34",
         "1",
         "0",
         "0",
         "0"
        ]
       ],
       "shape": {
        "columns": 5,
        "rows": 6593
       }
      },
      "text/html": [
       "<div>\n",
       "<style scoped>\n",
       "    .dataframe tbody tr th:only-of-type {\n",
       "        vertical-align: middle;\n",
       "    }\n",
       "\n",
       "    .dataframe tbody tr th {\n",
       "        vertical-align: top;\n",
       "    }\n",
       "\n",
       "    .dataframe thead th {\n",
       "        text-align: right;\n",
       "    }\n",
       "</style>\n",
       "<table border=\"1\" class=\"dataframe\">\n",
       "  <thead>\n",
       "    <tr style=\"text-align: right;\">\n",
       "      <th></th>\n",
       "      <th>timestamp</th>\n",
       "      <th>car</th>\n",
       "      <th>truck</th>\n",
       "      <th>bus</th>\n",
       "      <th>motorcycle</th>\n",
       "    </tr>\n",
       "  </thead>\n",
       "  <tbody>\n",
       "    <tr>\n",
       "      <th>0</th>\n",
       "      <td>2024-10-22 23:21:24</td>\n",
       "      <td>0</td>\n",
       "      <td>0</td>\n",
       "      <td>0</td>\n",
       "      <td>1</td>\n",
       "    </tr>\n",
       "    <tr>\n",
       "      <th>1</th>\n",
       "      <td>2024-10-22 23:21:24</td>\n",
       "      <td>0</td>\n",
       "      <td>0</td>\n",
       "      <td>0</td>\n",
       "      <td>1</td>\n",
       "    </tr>\n",
       "    <tr>\n",
       "      <th>2</th>\n",
       "      <td>2024-10-22 23:22:06</td>\n",
       "      <td>0</td>\n",
       "      <td>1</td>\n",
       "      <td>0</td>\n",
       "      <td>0</td>\n",
       "    </tr>\n",
       "    <tr>\n",
       "      <th>3</th>\n",
       "      <td>2024-10-22 23:24:25</td>\n",
       "      <td>0</td>\n",
       "      <td>1</td>\n",
       "      <td>0</td>\n",
       "      <td>0</td>\n",
       "    </tr>\n",
       "    <tr>\n",
       "      <th>4</th>\n",
       "      <td>2024-10-22 23:43:26</td>\n",
       "      <td>1</td>\n",
       "      <td>0</td>\n",
       "      <td>0</td>\n",
       "      <td>0</td>\n",
       "    </tr>\n",
       "    <tr>\n",
       "      <th>...</th>\n",
       "      <td>...</td>\n",
       "      <td>...</td>\n",
       "      <td>...</td>\n",
       "      <td>...</td>\n",
       "      <td>...</td>\n",
       "    </tr>\n",
       "    <tr>\n",
       "      <th>6588</th>\n",
       "      <td>2024-11-04 10:44:40</td>\n",
       "      <td>1</td>\n",
       "      <td>0</td>\n",
       "      <td>0</td>\n",
       "      <td>0</td>\n",
       "    </tr>\n",
       "    <tr>\n",
       "      <th>6589</th>\n",
       "      <td>2024-11-04 10:44:40</td>\n",
       "      <td>1</td>\n",
       "      <td>0</td>\n",
       "      <td>0</td>\n",
       "      <td>0</td>\n",
       "    </tr>\n",
       "    <tr>\n",
       "      <th>6590</th>\n",
       "      <td>2024-11-04 11:03:35</td>\n",
       "      <td>1</td>\n",
       "      <td>0</td>\n",
       "      <td>0</td>\n",
       "      <td>0</td>\n",
       "    </tr>\n",
       "    <tr>\n",
       "      <th>6591</th>\n",
       "      <td>2024-11-04 11:03:41</td>\n",
       "      <td>1</td>\n",
       "      <td>0</td>\n",
       "      <td>0</td>\n",
       "      <td>0</td>\n",
       "    </tr>\n",
       "    <tr>\n",
       "      <th>6592</th>\n",
       "      <td>2024-11-04 11:05:02</td>\n",
       "      <td>0</td>\n",
       "      <td>1</td>\n",
       "      <td>0</td>\n",
       "      <td>0</td>\n",
       "    </tr>\n",
       "  </tbody>\n",
       "</table>\n",
       "<p>6593 rows × 5 columns</p>\n",
       "</div>"
      ],
      "text/plain": [
       "                timestamp  car  truck  bus  motorcycle\n",
       "0     2024-10-22 23:21:24    0      0    0           1\n",
       "1     2024-10-22 23:21:24    0      0    0           1\n",
       "2     2024-10-22 23:22:06    0      1    0           0\n",
       "3     2024-10-22 23:24:25    0      1    0           0\n",
       "4     2024-10-22 23:43:26    1      0    0           0\n",
       "...                   ...  ...    ...  ...         ...\n",
       "6588  2024-11-04 10:44:40    1      0    0           0\n",
       "6589  2024-11-04 10:44:40    1      0    0           0\n",
       "6590  2024-11-04 11:03:35    1      0    0           0\n",
       "6591  2024-11-04 11:03:41    1      0    0           0\n",
       "6592  2024-11-04 11:05:02    0      1    0           0\n",
       "\n",
       "[6593 rows x 5 columns]"
      ]
     },
     "execution_count": 7,
     "metadata": {},
     "output_type": "execute_result"
    }
   ],
   "source": [
    "df"
   ]
  },
  {
   "cell_type": "markdown",
   "metadata": {},
   "source": [
    "# Download the experiments data JSON file"
   ]
  },
  {
   "cell_type": "code",
   "execution_count": 8,
   "metadata": {},
   "outputs": [
    {
     "name": "stderr",
     "output_type": "stream",
     "text": [
      "Downloading...\n",
      "From: https://drive.google.com/uc?id=1YLzoKvg8GLVW32Ybykw2eBaN2k-lKKoi\n",
      "To: c:\\Users\\Valentino\\Documents\\GitHub\\collocation_study\\data\\experiments.json\n",
      "100%|██████████| 3.60k/3.60k [00:00<00:00, 5.35MB/s]\n"
     ]
    },
    {
     "data": {
      "text/plain": [
       "'./data/experiments.json'"
      ]
     },
     "execution_count": 8,
     "metadata": {},
     "output_type": "execute_result"
    }
   ],
   "source": [
    "url = 'https://drive.google.com/uc?id=1YLzoKvg8GLVW32Ybykw2eBaN2k-lKKoi'\n",
    "\n",
    "os.makedirs('data', exist_ok=True)\n",
    "\n",
    "gdown.download(url, './data/experiments.json', quiet=False)"
   ]
  },
  {
   "cell_type": "markdown",
   "metadata": {},
   "source": [
    "# Load the experiments data"
   ]
  },
  {
   "cell_type": "code",
   "execution_count": 9,
   "metadata": {},
   "outputs": [],
   "source": [
    "with open('./data/experiments.json', 'r') as file:\n",
    "    experiments_data = json.load(file)"
   ]
  },
  {
   "cell_type": "code",
   "execution_count": 10,
   "metadata": {},
   "outputs": [
    {
     "data": {
      "text/plain": [
       "{'experiments': {'Door opened to the Garden': {'start': '2024-10-16 09:15',\n",
       "   'end': '2024-10-16 09:47'},\n",
       "  'Door opened to the Hallway': {'start': '2024-10-16 20:55',\n",
       "   'end': '2024-10-16 21:25'},\n",
       "  'Doors opened to the Garden and the Hallway': {'start': '2024-10-17 18:20',\n",
       "   'end': '2024-10-17 18:50'},\n",
       "  'Exercise Rowing with closed door to the Garden': {'start': '2024-10-19 10:40',\n",
       "   'end': '2024-10-19 10:54'},\n",
       "  'Exercise Rowing with opened door to the Garden': {'start': '2024-10-19 11:24',\n",
       "   'end': '2024-10-19 11:41'},\n",
       "  'Human Presence': [{'start': '2024-10-19 12:02', 'end': '2024-10-19 12:53'},\n",
       "   {'start': '2024-10-19 13:34', 'end': '2024-10-19 14:08'}],\n",
       "  'Diffuser with Water inside': {'start': '2024-10-19 14:33',\n",
       "   'end': '2024-10-19 14:51'},\n",
       "  'Diffuser with Oil inside': {'start': '2024-10-19 15:06',\n",
       "   'end': '2024-10-19 15:20'},\n",
       "  'Car working in Garden, distance 3 m': {'start': '2024-10-19 15:33',\n",
       "   'end': '2024-10-19 15:38'},\n",
       "  'Car working in Garden, distance 5 m': {'start': '2024-10-19 15:53',\n",
       "   'end': '2024-10-19 15:58'},\n",
       "  'Gas Burner working with closed door': {'start': '2024-10-20 13:10',\n",
       "   'end': '2024-10-20 13:40'},\n",
       "  'Gas Burner working with opened door': {'start': '2024-10-20 14:00',\n",
       "   'end': '2024-10-20 14:30'},\n",
       "  'Candle with closed door': [{'start': '2024-10-20 14:51',\n",
       "    'end': '2024-10-20 15:15'},\n",
       "   {'start': '2024-11-01 14:50', 'end': '2024-11-01 15:05'}],\n",
       "  'Scented Candle': {'start': '2024-10-20 19:58', 'end': '2024-10-20 21:30'},\n",
       "  'Candle with opened door': {'start': '2024-10-21 08:50',\n",
       "   'end': '2024-10-21 09:30'},\n",
       "  'Vacuum Cleaning with windows closed': {'start': '2024-10-26 16:26',\n",
       "   'end': '2024-10-26 16:34'},\n",
       "  'Odor from Neighbors': {'start': '2024-10-29 10:20',\n",
       "   'end': '2024-10-29 10:25'},\n",
       "  'Heater': [{'start': '2024-10-29 21:00', 'end': '2024-10-29 21:30'},\n",
       "   {'start': '2024-10-31 14:30', 'end': '2024-10-31 15:00'},\n",
       "   {'start': '2024-11-03 10:40', 'end': '2024-11-03 11:30'}],\n",
       "  'Aquarium Pump': {'start': '2024-10-31 15:20', 'end': '2024-10-31 15:40'},\n",
       "  'Tar (Neighbor Burning)': {'start': '2024-10-31 15:56',\n",
       "   'end': '2024-10-31 16:01'},\n",
       "  'Central Heating': {'start': '2024-10-31 17:45', 'end': '2024-10-31 19:45'},\n",
       "  'VOC Tubes - Car': [{'start': '2024-10-29 11:02', 'end': '2024-10-29 11:22'},\n",
       "   {'start': '2024-10-29 11:46', 'end': '2024-10-29 11:56'}],\n",
       "  'VOC Tubes - Diffuser (Oil)': [{'start': '2024-10-29 12:28',\n",
       "    'end': '2024-10-29 12:52'},\n",
       "   {'start': '2024-10-29 12:52', 'end': '2024-10-29 13:07'}],\n",
       "  'VOC Tubes - Gas Burner': {'start': '2024-10-29 13:24',\n",
       "   'end': '2024-10-29 13:39'},\n",
       "  'VOC Tubes - Candle': [{'start': '2024-10-29 14:20',\n",
       "    'end': '2024-10-29 14:51'},\n",
       "   {'start': '2024-10-29 14:51', 'end': '2024-10-29 15:06'}],\n",
       "  'Diffuser with Oil repeated': {'start': '2024-11-02 16:30',\n",
       "   'end': '2024-11-02 17:05'},\n",
       "  'Boiling Water (Gas) with doors closed': {'start': '2024-11-02 18:15',\n",
       "   'end': '2024-11-02 19:45'}}}"
      ]
     },
     "execution_count": 10,
     "metadata": {},
     "output_type": "execute_result"
    }
   ],
   "source": [
    "experiments_data"
   ]
  },
  {
   "cell_type": "code",
   "execution_count": null,
   "metadata": {},
   "outputs": [],
   "source": []
  }
 ],
 "metadata": {
  "kernelspec": {
   "display_name": "lur_model",
   "language": "python",
   "name": "python3"
  },
  "language_info": {
   "codemirror_mode": {
    "name": "ipython",
    "version": 3
   },
   "file_extension": ".py",
   "mimetype": "text/x-python",
   "name": "python",
   "nbconvert_exporter": "python",
   "pygments_lexer": "ipython3",
   "version": "3.11.11"
  }
 },
 "nbformat": 4,
 "nbformat_minor": 4
}
