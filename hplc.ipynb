{
 "cells": [
  {
   "cell_type": "code",
   "execution_count": 2,
   "metadata": {},
   "outputs": [],
   "source": [
    "import gdown\n",
    "import os\n",
    "import pandas as pd"
   ]
  },
  {
   "cell_type": "markdown",
   "metadata": {},
   "source": [
    "## Get HPLC data\n"
   ]
  },
  {
   "cell_type": "code",
   "execution_count": 2,
   "metadata": {},
   "outputs": [
    {
     "name": "stderr",
     "output_type": "stream",
     "text": [
      "Downloading...\n",
      "From: https://drive.google.com/uc?id=1X3D8_uFx4QKuHHLV4kKOgzzAPoaXHTlv\n",
      "To: /home/usr1_tt/collocation_study/data/hplc.xlsx\n",
      "100%|██████████| 15.2k/15.2k [00:00<00:00, 2.42MB/s]\n"
     ]
    },
    {
     "data": {
      "text/plain": [
       "'data/hplc.xlsx'"
      ]
     },
     "execution_count": 2,
     "metadata": {},
     "output_type": "execute_result"
    }
   ],
   "source": [
    "url_hplc = 'https://drive.google.com/uc?id=1X3D8_uFx4QKuHHLV4kKOgzzAPoaXHTlv'\n",
    "output_hplc = 'data/hplc.xlsx'\n",
    "gdown.download(url_hplc, output_hplc, quiet=False)"
   ]
  },
  {
   "cell_type": "code",
   "execution_count": 3,
   "metadata": {},
   "outputs": [
    {
     "name": "stderr",
     "output_type": "stream",
     "text": [
      "/tmp/ipykernel_2040452/2710891165.py:1: UserWarning: Could not infer format, so each element will be parsed individually, falling back to `dateutil`. To ensure parsing is consistent and as-expected, please specify a format.\n",
      "  df = pd.read_excel('data/hplc.xlsx',index_col=0,parse_dates=True)\n"
     ]
    }
   ],
   "source": [
    "df = pd.read_excel('data/hplc.xlsx',index_col=0,parse_dates=True)\n"
   ]
  },
  {
   "cell_type": "code",
   "execution_count": 5,
   "metadata": {},
   "outputs": [
    {
     "data": {
      "text/html": [
       "<div>\n",
       "<style scoped>\n",
       "    .dataframe tbody tr th:only-of-type {\n",
       "        vertical-align: middle;\n",
       "    }\n",
       "\n",
       "    .dataframe tbody tr th {\n",
       "        vertical-align: top;\n",
       "    }\n",
       "\n",
       "    .dataframe thead th {\n",
       "        text-align: right;\n",
       "    }\n",
       "</style>\n",
       "<table border=\"1\" class=\"dataframe\">\n",
       "  <thead>\n",
       "    <tr style=\"text-align: right;\">\n",
       "      <th></th>\n",
       "      <th>tvoc</th>\n",
       "    </tr>\n",
       "    <tr>\n",
       "      <th>datetime</th>\n",
       "      <th></th>\n",
       "    </tr>\n",
       "  </thead>\n",
       "  <tbody>\n",
       "    <tr>\n",
       "      <th>2024-10-29 11:13:00</th>\n",
       "      <td>46.236</td>\n",
       "    </tr>\n",
       "    <tr>\n",
       "      <th>2024-10-29 11:14:00</th>\n",
       "      <td>43.901</td>\n",
       "    </tr>\n",
       "    <tr>\n",
       "      <th>2024-10-29 11:47:00</th>\n",
       "      <td>209.815</td>\n",
       "    </tr>\n",
       "    <tr>\n",
       "      <th>2024-10-29 11:55:00</th>\n",
       "      <td>69.578</td>\n",
       "    </tr>\n",
       "    <tr>\n",
       "      <th>2024-10-29 12:37:00</th>\n",
       "      <td>279.627</td>\n",
       "    </tr>\n",
       "    <tr>\n",
       "      <th>2024-10-29 13:00:00</th>\n",
       "      <td>8.169</td>\n",
       "    </tr>\n",
       "    <tr>\n",
       "      <th>2024-10-29 13:32:00</th>\n",
       "      <td>40.150</td>\n",
       "    </tr>\n",
       "    <tr>\n",
       "      <th>2024-10-29 14:26:00</th>\n",
       "      <td>534.548</td>\n",
       "    </tr>\n",
       "    <tr>\n",
       "      <th>2024-10-29 14:58:00</th>\n",
       "      <td>67.792</td>\n",
       "    </tr>\n",
       "  </tbody>\n",
       "</table>\n",
       "</div>"
      ],
      "text/plain": [
       "                        tvoc\n",
       "datetime                    \n",
       "2024-10-29 11:13:00   46.236\n",
       "2024-10-29 11:14:00   43.901\n",
       "2024-10-29 11:47:00  209.815\n",
       "2024-10-29 11:55:00   69.578\n",
       "2024-10-29 12:37:00  279.627\n",
       "2024-10-29 13:00:00    8.169\n",
       "2024-10-29 13:32:00   40.150\n",
       "2024-10-29 14:26:00  534.548\n",
       "2024-10-29 14:58:00   67.792"
      ]
     },
     "execution_count": 5,
     "metadata": {},
     "output_type": "execute_result"
    }
   ],
   "source": [
    "df_hplc = df.iloc[0:,4:].sum(axis=1).to_frame(name='tvoc')\n",
    "df_hplc.index = df_hplc.index.map(lambda x: x.replace(year=2024, month=10, day=29) if x.date() == pd.Timestamp('2024-11-08').date() else x)\n",
    "df_hplc.index.name = 'datetime'\n",
    "\n",
    "df_hplc"
   ]
  },
  {
   "cell_type": "code",
   "execution_count": 6,
   "metadata": {},
   "outputs": [],
   "source": [
    "df_hplc.to_csv('data/clean_data/hplc.csv')"
   ]
  }
 ],
 "metadata": {
  "kernelspec": {
   "display_name": "env",
   "language": "python",
   "name": "python3"
  },
  "language_info": {
   "codemirror_mode": {
    "name": "ipython",
    "version": 3
   },
   "file_extension": ".py",
   "mimetype": "text/x-python",
   "name": "python",
   "nbconvert_exporter": "python",
   "pygments_lexer": "ipython3",
   "version": "3.10.12"
  }
 },
 "nbformat": 4,
 "nbformat_minor": 2
}
